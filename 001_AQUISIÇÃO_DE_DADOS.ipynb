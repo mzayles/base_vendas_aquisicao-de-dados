{
  "nbformat": 4,
  "nbformat_minor": 0,
  "metadata": {
    "colab": {
      "provenance": []
    },
    "kernelspec": {
      "name": "python3",
      "display_name": "Python 3"
    },
    "language_info": {
      "name": "python"
    }
  },
  "cells": [
    {
      "cell_type": "markdown",
      "source": [
        "# **AQUISIÇÃO DE DADOS**"
      ],
      "metadata": {
        "id": "lv3-axftwIH3"
      }
    },
    {
      "cell_type": "code",
      "source": [
        "# AQUISIÇÃO DE DADOS - POR ONDE COMEÇAR?\n",
        "\n",
        "\"\"\"\n",
        "  Metodologia crisp - dm\n",
        "\n",
        "    Primeiros passos:\n",
        "    - Começar com uma pergunta de negócios\n",
        "    - Pesquisa, discussão, documentação > parte técnica\n",
        "    - Aquisição de dados: conectar na fonte de dados para retornar\n",
        "    os dados e analisá-los.\n",
        "    - Análise exploratória: identificar problemas\n",
        "    - DataPrep: solucionar problemas\n",
        "    - índice turn-over\n",
        "\n",
        "    Delimitadores:\n",
        "    - Padrão: vírgula [,]\n",
        "    Caso o delimitador do arquivo seja diferente, é necessário\n",
        "    utilizar o sep='' ou delimiter=''\n",
        "    - Ponto e vírgula [;]\n",
        "    - Tab [\\t]\n",
        "\n",
        "    Aquisição de dados:\n",
        "    - Importar a biblioteca Pandas\n",
        "    - Subir arquivos\n",
        "    - Definir DataFrame (df): estrutura tabular com linhas e colunas\n",
        "\n",
        "    Análise descritiva e análise diagnóstica: menos complexidade, pouco\n",
        "    valor na empresa, porém com mais oportunidades de ingressar na área.\n",
        "\n",
        "    Análise preditiva e prescritiva: entende o passado para lidar com o\n",
        "    futuro através da estatística, maior complexidade e mais valor na\n",
        "    empresa.\n",
        "\"\"\""
      ],
      "metadata": {
        "id": "y9v7B68CG7Vj"
      },
      "execution_count": null,
      "outputs": []
    },
    {
      "cell_type": "code",
      "source": [
        "print(\"Meu primeiro código em Python.\")"
      ],
      "metadata": {
        "id": "wxq5nFKI0n6A"
      },
      "execution_count": null,
      "outputs": []
    },
    {
      "cell_type": "code",
      "source": [
        "# carregando dados com python utilizando a biblioteca pandas\n",
        "import pandas as pd"
      ],
      "metadata": {
        "id": "wDz3NMuQ0y5Z"
      },
      "execution_count": null,
      "outputs": []
    },
    {
      "cell_type": "code",
      "source": [
        "# arquivos CSV - delimitador vírgula [,]\n",
        "# adicionar ponto [.] após o pd para abrir as funções da biblioteca\n",
        "# por padrão, ele vai buscar a vírgula como delimitador\n",
        "# read(): função para dar carga nos arquivos\n",
        "# pd.read() retorna um DataFrame (df), que possui estrutura tabular com linhas e colunas (Excel)\n",
        "# variável df: guardar as informações na memória\n",
        "\n",
        "df = pd.read_csv('base_vendas.csv')"
      ],
      "metadata": {
        "id": "M6ZINb-B1JHs"
      },
      "execution_count": null,
      "outputs": []
    },
    {
      "cell_type": "code",
      "source": [
        "# abrir as 5 primeiras linhas da tabela - índice [0]\n",
        "df.head()\n",
        "\n",
        "# abrir a quantidade de linhas que estiver dentro dos parênteses\n",
        "df.head(50)\n",
        "\n",
        "# abrir as 5 últimas linhas da tabela\n",
        "df.tail()"
      ],
      "metadata": {
        "id": "Sm6H9hfE5T26"
      },
      "execution_count": null,
      "outputs": []
    },
    {
      "cell_type": "code",
      "source": [
        "# arquivos CSV - delimitador ponto e vírgula [;]\n",
        "df = pd.read_csv('base_vendas_ponto_virgula.csv', sep=';')\n",
        "\n",
        "# -1: retorna as cinco primeiras linhas e as cinco últimas da tabela\n",
        "df.head(-1)"
      ],
      "metadata": {
        "id": "rhAaUuUY6jyn"
      },
      "execution_count": null,
      "outputs": []
    },
    {
      "cell_type": "code",
      "source": [
        "# # arquivos CSV/TSV - delimitador tabulação [\\t]\n",
        "# as colunas não foram separadas corretamente por conta do ponto e vírgula\n",
        "# um arquivo tabulado não existe na função read(), é necessário usar a mesma função de um arquivo CSV\n",
        "\n",
        "df = pd.read_csv('base_vendas_tab.tsv', sep='\\t')\n",
        "df.head(-1)"
      ],
      "metadata": {
        "id": "glV22OPy7iIS"
      },
      "execution_count": null,
      "outputs": []
    },
    {
      "cell_type": "code",
      "source": [
        "# BIBLIOTECA PANDAS\n",
        "\n",
        "\"\"\"\n",
        "    O Pandas é uma biblioteca para manipulação, análise e visualização dos dados.\n",
        "    Foi desenvolvida com base no Numpy e Matplotlib.\n",
        "\n",
        "    Site oficial: https://pandas.pydata.org\n",
        "\"\"\""
      ],
      "metadata": {
        "id": "zBx1Ou0w8Fh-"
      },
      "execution_count": null,
      "outputs": []
    },
    {
      "cell_type": "code",
      "source": [
        "import pandas as pd"
      ],
      "metadata": {
        "id": "kQ3sKbBV80bc"
      },
      "execution_count": null,
      "outputs": []
    },
    {
      "cell_type": "code",
      "source": [
        "# arquivos Excel\n",
        "# biblioteca openpyxl\n",
        "# !pib install: instalar bibliotecas\n",
        "\n",
        "!pib install openpyxl"
      ],
      "metadata": {
        "id": "ToLYC35L9gmK"
      },
      "execution_count": null,
      "outputs": []
    },
    {
      "cell_type": "code",
      "source": [
        "# carga de diferentes planilhas que estão no mesmo arquivo\n",
        "\n",
        "df_funcionarios = pd.read_excel('Vendas.xlsx', sheet_name='funcionarios')\n",
        "df_vendas = pd.read_excel('Vendas.xlsx', sheet_name='base_vendas')\n",
        "\n",
        "df_funcionarios.head()\n",
        "df_vendas.head()"
      ],
      "metadata": {
        "id": "k95iGiJG-L0D"
      },
      "execution_count": null,
      "outputs": []
    },
    {
      "cell_type": "code",
      "source": [
        "# sheet_name: paramêtro para abrir outra planilha dentro de um mesmo arquivo\n",
        "\n",
        "df = pd.read_excel('Vendas.xlsx', sheet_name='base_vendas')\n",
        "df.head()"
      ],
      "metadata": {
        "id": "MyTius7Z_Ri5"
      },
      "execution_count": null,
      "outputs": []
    },
    {
      "cell_type": "code",
      "source": [
        "# arquivos HTML\n",
        "# busca por uma estrutura tabular\n",
        "# retorna uma lista (list) no qual os elementos são DataFrames das tabelas HTML separadas pelas tags <table></table>\n",
        "\n",
        "tabelas = pd.read_html('base_vendas.html')\n",
        "tabelas"
      ],
      "metadata": {
        "id": "odHvu1V0vxc0"
      },
      "execution_count": null,
      "outputs": []
    },
    {
      "cell_type": "code",
      "source": [
        "# verifica o tipo do objeto - list\n",
        "type(tabelas)"
      ],
      "metadata": {
        "id": "Vtt5nR1hwJLf"
      },
      "execution_count": null,
      "outputs": []
    },
    {
      "cell_type": "code",
      "source": [
        "# imprime a primeira tabela, toda lista começa do índice [0]\n",
        "\n",
        "df = tabelas[0]\n",
        "df.head()"
      ],
      "metadata": {
        "id": "ISjLPweOwSjI"
      },
      "execution_count": null,
      "outputs": []
    },
    {
      "cell_type": "code",
      "source": [
        "# arquivos H5\n",
        "# armazenar big data - leitura de computador 0 e 1\n",
        "\n",
        "df = pd.read_hdf('base_vendas.h5')\n",
        "df.head()"
      ],
      "metadata": {
        "id": "dSVnoVGdwde_"
      },
      "execution_count": null,
      "outputs": []
    },
    {
      "cell_type": "code",
      "source": [
        "# arquivos JSON\n",
        "\n",
        "df = pd.read_json('base_vendas.json')\n",
        "df.head()"
      ],
      "metadata": {
        "id": "pZcv-zPkwkt_"
      },
      "execution_count": null,
      "outputs": []
    },
    {
      "cell_type": "code",
      "source": [
        "# arquivos XML\n",
        "# semi estruturado\n",
        "\n",
        "df = pd.read_xml('base_vendas.xml')\n",
        "df.head()"
      ],
      "metadata": {
        "id": "zAkNW0iNwmN-"
      },
      "execution_count": null,
      "outputs": []
    },
    {
      "cell_type": "code",
      "source": [
        "# dados de um banco de dados (DB)\n",
        "# conexão - usuário/senha\n",
        "# biblioteca SQL\n",
        "\n",
        "import sqlite3 as sql\n",
        "conexao = sql.connect('vendas.db')"
      ],
      "metadata": {
        "id": "BIIRNuQHwqiQ"
      },
      "execution_count": null,
      "outputs": []
    },
    {
      "cell_type": "code",
      "source": [
        "df = pd.read_sql_query('SELECT * FROM pedidos', conexao)\n",
        "df.head()"
      ],
      "metadata": {
        "id": "3q5w1Ce8wybS"
      },
      "execution_count": null,
      "outputs": []
    }
  ]
}